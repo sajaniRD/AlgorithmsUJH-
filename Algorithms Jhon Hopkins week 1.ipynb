{
 "cells": [
  {
   "cell_type": "code",
   "execution_count": 2,
   "id": "97d9c933",
   "metadata": {},
   "outputs": [],
   "source": [
    "seq = 'ATG'"
   ]
  },
  {
   "cell_type": "code",
   "execution_count": 3,
   "id": "d71bc007",
   "metadata": {},
   "outputs": [],
   "source": [
    "seq = \"ATG\""
   ]
  },
  {
   "cell_type": "code",
   "execution_count": 4,
   "id": "31d655ec",
   "metadata": {},
   "outputs": [
    {
     "data": {
      "text/plain": [
       "'G'"
      ]
     },
     "execution_count": 4,
     "metadata": {},
     "output_type": "execute_result"
    }
   ],
   "source": [
    "seq[2]"
   ]
  },
  {
   "cell_type": "code",
   "execution_count": 5,
   "id": "b6b9d579",
   "metadata": {},
   "outputs": [
    {
     "data": {
      "text/plain": [
       "3"
      ]
     },
     "execution_count": 5,
     "metadata": {},
     "output_type": "execute_result"
    }
   ],
   "source": [
    "len(seq)"
   ]
  },
  {
   "cell_type": "code",
   "execution_count": 6,
   "id": "f74dd94f",
   "metadata": {},
   "outputs": [],
   "source": [
    "e =\"\""
   ]
  },
  {
   "cell_type": "code",
   "execution_count": 7,
   "id": "d57a7a39",
   "metadata": {},
   "outputs": [
    {
     "data": {
      "text/plain": [
       "0"
      ]
     },
     "execution_count": 7,
     "metadata": {},
     "output_type": "execute_result"
    }
   ],
   "source": [
    "len(e)"
   ]
  },
  {
   "cell_type": "code",
   "execution_count": 8,
   "id": "e5f73ac4",
   "metadata": {},
   "outputs": [],
   "source": [
    "seq1 = \"ATGCCG\"\n",
    "seq2 = \"GCTTAC\""
   ]
  },
  {
   "cell_type": "code",
   "execution_count": 9,
   "id": "98fa93be",
   "metadata": {},
   "outputs": [
    {
     "name": "stdout",
     "output_type": "stream",
     "text": [
      "ATGCCGGCTTAC\n"
     ]
    }
   ],
   "source": [
    "print(seq1 + seq2)"
   ]
  },
  {
   "cell_type": "code",
   "execution_count": 11,
   "id": "99b4d13c",
   "metadata": {},
   "outputs": [
    {
     "name": "stdout",
     "output_type": "stream",
     "text": [
      "ACGT\n",
      "A,C,G,T\n"
     ]
    }
   ],
   "source": [
    "seqs = [\"A\", \"C\", \"G\", \"T\"]\n",
    "print(\"\".join(seqs))\n",
    "print(\",\".join(seqs))"
   ]
  },
  {
   "cell_type": "code",
   "execution_count": 12,
   "id": "2e35a1f1",
   "metadata": {},
   "outputs": [],
   "source": [
    "import random"
   ]
  },
  {
   "cell_type": "code",
   "execution_count": 14,
   "id": "67b1d29c",
   "metadata": {},
   "outputs": [
    {
     "data": {
      "text/plain": [
       "'T'"
      ]
     },
     "execution_count": 14,
     "metadata": {},
     "output_type": "execute_result"
    }
   ],
   "source": [
    "random.choice('ACGT')"
   ]
  },
  {
   "cell_type": "code",
   "execution_count": 16,
   "id": "ccdea463",
   "metadata": {},
   "outputs": [
    {
     "data": {
      "text/plain": [
       "'C'"
      ]
     },
     "execution_count": 16,
     "metadata": {},
     "output_type": "execute_result"
    }
   ],
   "source": [
    "random.seed(7)\n",
    "random.choice(\"ATCG\")"
   ]
  },
  {
   "cell_type": "code",
   "execution_count": 17,
   "id": "417a224d",
   "metadata": {},
   "outputs": [
    {
     "name": "stdout",
     "output_type": "stream",
     "text": [
      "TGAAACATAA\n"
     ]
    }
   ],
   "source": [
    "seq =''\n",
    "# when you do not care about the iteration you are at,\n",
    "#You do not want the interation saved in a variable\n",
    "\n",
    "for _ in range(10):\n",
    "    seq+= random.choice(\"ATCG\")\n",
    "print(seq)"
   ]
  },
  {
   "cell_type": "code",
   "execution_count": 18,
   "id": "a334b801",
   "metadata": {},
   "outputs": [
    {
     "name": "stdout",
     "output_type": "stream",
     "text": [
      "GGATAGAATA\n"
     ]
    }
   ],
   "source": [
    "seq = \"\".join([random.choice(\"ATCG\") for _ in range(10)])\n",
    "print(seq)"
   ]
  },
  {
   "cell_type": "code",
   "execution_count": 19,
   "id": "1ba152f5",
   "metadata": {},
   "outputs": [
    {
     "data": {
      "text/plain": [
       "'GA'"
      ]
     },
     "execution_count": 19,
     "metadata": {},
     "output_type": "execute_result"
    }
   ],
   "source": [
    "#substrings \n",
    "#form 1 to 2, 3 in excluded\n",
    "seq[1:3]"
   ]
  },
  {
   "cell_type": "code",
   "execution_count": 21,
   "id": "d93cb962",
   "metadata": {},
   "outputs": [
    {
     "name": "stdout",
     "output_type": "stream",
     "text": [
      "GGA\n",
      "GGA\n"
     ]
    }
   ],
   "source": [
    "# both gives the same results\n",
    "# this is a prefix as it starts from the very beginning\n",
    "\n",
    "print(seq[:3])\n",
    "print(seq[0:3])"
   ]
  },
  {
   "cell_type": "code",
   "execution_count": 23,
   "id": "56a85fc9",
   "metadata": {},
   "outputs": [
    {
     "data": {
      "text/plain": [
       "'ATA'"
      ]
     },
     "execution_count": 23,
     "metadata": {},
     "output_type": "execute_result"
    }
   ],
   "source": [
    "#suffixfix, getting \n",
    "seq[7:]\n"
   ]
  },
  {
   "cell_type": "code",
   "execution_count": 24,
   "id": "bc38c717",
   "metadata": {},
   "outputs": [
    {
     "data": {
      "text/plain": [
       "'ATA'"
      ]
     },
     "execution_count": 24,
     "metadata": {},
     "output_type": "execute_result"
    }
   ],
   "source": [
    "seq[7:len(seq)]\n",
    "\n"
   ]
  },
  {
   "cell_type": "code",
   "execution_count": 25,
   "id": "f0041382",
   "metadata": {},
   "outputs": [
    {
     "data": {
      "text/plain": [
       "'A'"
      ]
     },
     "execution_count": 25,
     "metadata": {},
     "output_type": "execute_result"
    }
   ],
   "source": [
    "seq[-3]"
   ]
  },
  {
   "cell_type": "code",
   "execution_count": 26,
   "id": "504add0c",
   "metadata": {},
   "outputs": [
    {
     "data": {
      "text/plain": [
       "'ATA'"
      ]
     },
     "execution_count": 26,
     "metadata": {},
     "output_type": "execute_result"
    }
   ],
   "source": [
    "#will get the last 3 characters of the sequence\n",
    "seq[-3:]"
   ]
  },
  {
   "cell_type": "code",
   "execution_count": 27,
   "id": "1df3f826",
   "metadata": {},
   "outputs": [
    {
     "data": {
      "text/plain": [
       "'GAATA'"
      ]
     },
     "execution_count": 27,
     "metadata": {},
     "output_type": "execute_result"
    }
   ],
   "source": [
    "seq[len(seq)-5:]"
   ]
  },
  {
   "cell_type": "code",
   "execution_count": 30,
   "id": "a4273d89",
   "metadata": {},
   "outputs": [
    {
     "data": {
      "text/plain": [
       "'ATGC'"
      ]
     },
     "execution_count": 30,
     "metadata": {},
     "output_type": "execute_result"
    }
   ],
   "source": [
    "# manipulate strings. \n",
    "\n",
    "# checking for the longest common prefix \n",
    "\n",
    "def longestCommonPrefix (s1,s2):\n",
    "    i =0\n",
    "    while(i < len(s1) and i< len(s2) and s1[i] ==s2[i]):\n",
    "        i += 1\n",
    "    return s1[:i]\n",
    "\n",
    "s1= \"ATGCCGT\"\n",
    "s2 = \"ATGCTT\"\n",
    "\n",
    "longestCommonPrefix(s1, s2)"
   ]
  },
  {
   "cell_type": "code",
   "execution_count": 38,
   "id": "e294f261",
   "metadata": {},
   "outputs": [
    {
     "name": "stdout",
     "output_type": "stream",
     "text": [
      "True\n",
      "False\n"
     ]
    }
   ],
   "source": [
    "# matching two strings the same\n",
    "# range goes from 0 to the len of it-1\n",
    "def match(s1, s2):\n",
    "    if not len(s1) == len(s2):\n",
    "        return False \n",
    "    for i in range(len(s1)):\n",
    "        if not s1[i] == s2[i]:\n",
    "            return False \n",
    "    return True \n",
    "\n",
    "print(match(\"ATCGGT\", \"ATCGGT\"))\n",
    "print(match(\"ATTCGT\", \"GATCTG\"))"
   ]
  },
  {
   "cell_type": "code",
   "execution_count": 39,
   "id": "283981ee",
   "metadata": {},
   "outputs": [
    {
     "data": {
      "text/plain": [
       "True"
      ]
     },
     "execution_count": 39,
     "metadata": {},
     "output_type": "execute_result"
    }
   ],
   "source": [
    "\"ATCGGT\" == \"ATCGGT\""
   ]
  },
  {
   "cell_type": "code",
   "execution_count": 40,
   "id": "c0e6a6e2",
   "metadata": {},
   "outputs": [
    {
     "data": {
      "text/plain": [
       "False"
      ]
     },
     "execution_count": 40,
     "metadata": {},
     "output_type": "execute_result"
    }
   ],
   "source": [
    "\"ATTCGT\" == \"GATCTG\""
   ]
  },
  {
   "cell_type": "code",
   "execution_count": 44,
   "id": "f3a31102",
   "metadata": {},
   "outputs": [
    {
     "data": {
      "text/plain": [
       "'T'"
      ]
     },
     "execution_count": 44,
     "metadata": {},
     "output_type": "execute_result"
    }
   ],
   "source": [
    "# reverse compliment \n",
    "# dictionary : associative array. \n",
    "complement = {\"A\":\"T\", \"T\": \"A\", \"G\":\"C\", \"C\":\"G\"}\n",
    "complement[\"A\"]"
   ]
  },
  {
   "cell_type": "code",
   "execution_count": 45,
   "id": "005d52cb",
   "metadata": {},
   "outputs": [
    {
     "data": {
      "text/plain": [
       "'A'"
      ]
     },
     "execution_count": 45,
     "metadata": {},
     "output_type": "execute_result"
    }
   ],
   "source": [
    "complement[\"T\"]"
   ]
  },
  {
   "cell_type": "code",
   "execution_count": 46,
   "id": "382826ad",
   "metadata": {},
   "outputs": [
    {
     "data": {
      "text/plain": [
       "('TAACCGGACCT', 'TCCAGGCCAAT')"
      ]
     },
     "execution_count": 46,
     "metadata": {},
     "output_type": "execute_result"
    }
   ],
   "source": [
    "def reverseComplement(s):\n",
    "    t = \"\"\n",
    "    x = \"\"\n",
    "    for base in s:\n",
    "        # reverse complement \n",
    "        t = complement[base] + t\n",
    "        # complement \n",
    "        x = x + complement[base]\n",
    "    return t, x \n",
    "\n",
    "reverseComplement(\"AGGTCCGGTTA\")"
   ]
  },
  {
   "cell_type": "code",
   "execution_count": 49,
   "id": "c58c1fea",
   "metadata": {},
   "outputs": [],
   "source": [
    "# downloading the datafile to the working directory \n",
    "#!wget ! is used to use the command line of windows from the terminal itself inside a pyinb file"
   ]
  },
  {
   "cell_type": "code",
   "execution_count": 51,
   "id": "4b84a507",
   "metadata": {},
   "outputs": [
    {
     "data": {
      "text/plain": [
       "'GGGCGGCGACCTCGCGGGTTTTCGCTATTTATGAAAATTTTCCGGTTTAAGGCGTTTCCGTTCTTCTTCGTCATAACTTAATGTTTTTATTTAAAATACC'"
      ]
     },
     "execution_count": 51,
     "metadata": {},
     "output_type": "execute_result"
    }
   ],
   "source": [
    "file = \"D:\\\\University of Colombo MSc\\\\Semester 3\\\\MB 5110 GIS\\\\virus.fasta\"\n",
    "\n",
    "def readGenome(file):\n",
    "    genome = \"\"\n",
    "    with open(file, \"r\") as f:\n",
    "        for line in f:\n",
    "            if not line[0] == \">\":\n",
    "                genome += line.rstrip()\n",
    "    return genome;\n",
    "genome = readGenome(file)\n",
    "genome[:100]"
   ]
  },
  {
   "cell_type": "code",
   "execution_count": 52,
   "id": "900e020e",
   "metadata": {},
   "outputs": [
    {
     "data": {
      "text/plain": [
       "41969"
      ]
     },
     "execution_count": 52,
     "metadata": {},
     "output_type": "execute_result"
    }
   ],
   "source": [
    "len(genome)"
   ]
  },
  {
   "cell_type": "code",
   "execution_count": 53,
   "id": "56b76ff9",
   "metadata": {},
   "outputs": [
    {
     "name": "stdout",
     "output_type": "stream",
     "text": [
      "{'A': 10492, 'T': 10206, 'C': 9956, 'G': 11315}\n"
     ]
    }
   ],
   "source": [
    "# count the frequency of the bases:\n",
    "counter = {\"A\": 0, \"T\":0, \"C\":0, \"G\":0}\n",
    "for base in genome:\n",
    "    counter[base] += 1\n",
    "print(counter)"
   ]
  },
  {
   "cell_type": "code",
   "execution_count": 57,
   "id": "17f4358f",
   "metadata": {},
   "outputs": [
    {
     "data": {
      "text/plain": [
       "Counter({'G': 11315, 'C': 9956, 'A': 10492, 'T': 10206})"
      ]
     },
     "execution_count": 57,
     "metadata": {},
     "output_type": "execute_result"
    }
   ],
   "source": [
    "import collections\n",
    "collections.Counter(genome)"
   ]
  },
  {
   "cell_type": "code",
   "execution_count": 63,
   "id": "7a1e2162",
   "metadata": {},
   "outputs": [
    {
     "ename": "SyntaxError",
     "evalue": "invalid syntax (Temp/ipykernel_25356/1554268475.py, line 1)",
     "output_type": "error",
     "traceback": [
      "\u001b[1;36m  File \u001b[1;32m\"C:\\Users\\Sajani\\AppData\\Local\\Temp/ipykernel_25356/1554268475.py\"\u001b[1;36m, line \u001b[1;32m1\u001b[0m\n\u001b[1;33m    @SRR835775.1 1/1\u001b[0m\n\u001b[1;37m              ^\u001b[0m\n\u001b[1;31mSyntaxError\u001b[0m\u001b[1;31m:\u001b[0m invalid syntax\n"
     ]
    }
   ],
   "source": [
    "@SRR835775.1 1/1\n",
    "TAACCCTAACCCTAACCCTAACCCTAACCCTAACCCTAACCCTAACCCTAACCCTCACCCTAACCCTAACCCTAACCGTATCCGTCACCCTAACCCTAAC\n",
    "+\n",
    "???B1ADDD8??BB+C?B+:AA883CEE8?C3@DDD3)?D2;DC?8?=BAD=@C@(.6.6=A?=?@##################################"
   ]
  },
  {
   "cell_type": "code",
   "execution_count": 78,
   "id": "bfe755b7",
   "metadata": {},
   "outputs": [],
   "source": [
    "# Reading and Analysing Fastaq files\n",
    "file = \"D:\\\\University of Colombo MSc\\\\Semester 3\\\\MB 5110 GIS\\\\SRR835775_1.first1000.fastq\"\n",
    "\n",
    "def readFastaQ(fileName):\n",
    "    sequence = []\n",
    "    qualities = []\n",
    "    x =''\n",
    "    with open(fileName) as fh:\n",
    "        x =fh.readline\n",
    "        while True:\n",
    "            x=fh.readline\n",
    "            x= fh.readline().rstrip()\n",
    "            seq = fh.readline().rstrip()\n",
    "#             print(seq, \"seq\")\n",
    "#             print(x, \"x\")\n",
    "            x=fh.readline()\n",
    "            qua = fh.readline().rstrip()\n",
    "            if len(seq) == 0:\n",
    "                break\n",
    "            sequence.append(seq)\n",
    "            qualities.append(qua)\n",
    "            \n",
    "    return sequence, qualities\n",
    "seq,qual = readFastaQ(file)\n",
    "    "
   ]
  },
  {
   "cell_type": "code",
   "execution_count": 79,
   "id": "2273418d",
   "metadata": {},
   "outputs": [
    {
     "data": {
      "text/plain": [
       "['TAACCCTAACCCTAACCCTAACCCTAACCCTAACCCTAACCCTAACCCTAACCCTCACCCTAACCCTAACCCTAACCGTATCCGTCACCCTAACCCTAAC',\n",
       " 'TAACCCTAACCCTAACCCTAACCCTAACCCTAACCCTAACCCTAACCCTAACCCTACCCTAACCCTAACCCTAACCCTAACCCTAACCCTAACCCTAACC',\n",
       " 'TAGGGTTAGGGTTAGGGTTAGGGTTAGGGTTAGGGTTAGGGTTAGGGTTAGGGTTAGGGTTAGGGTTAGGGTTAGGGTTAGGGTTAGGGTTAGGGTTAGG',\n",
       " 'TAGGGTTAGGGTTAGGGTTAGGGTTAGGGTTAGGGTTAGGGTTAGGGTTAGGGTTAGGGTTAGGGTTAAGGGTTGGGGGTTAGGGGTAGGGGTAGGGTTA',\n",
       " 'CTAACCCTAACCCTAACCCTAACCCTACCCTAACCCTAACCCTAACCCTAACCCTAACCCTAACCCTAACCCTAACCCAACCCTAACCCTAACCCTCACC']"
      ]
     },
     "execution_count": 79,
     "metadata": {},
     "output_type": "execute_result"
    }
   ],
   "source": [
    "seq[:5]"
   ]
  },
  {
   "cell_type": "code",
   "execution_count": 80,
   "id": "d7a7090a",
   "metadata": {},
   "outputs": [
    {
     "data": {
      "text/plain": [
       "['???B1ADDD8??BB+C?B+:AA883CEE8?C3@DDD3)?D2;DC?8?=BAD=@C@(.6.6=A?=?@##################################',\n",
       " 'CCCFFFFFGHHGHJJJJJIJGIIJJJJJJJIJIJJJJJFJJFGIIIIH=CBFCF=CCEG)=>EHB2@@DEC>;;?=;(=?BBD?59?BA###########',\n",
       " '@@<DD?DDHHH<CBHII:CFGIGAGHIIG?CCGGE0BDHIIHIGICH8=FHGI=@EHGGGEEHH>);?CC@.;(=;?59,5<A599?CB>ABBCB><88A',\n",
       " '@CCFFDDFHHHDFHIJJCGGIJJHIIHJC?DHHIJ0?DGHI9BBFHICGGIGI=CDEGI=?AAEF7@?################################',\n",
       " '@<@FDFDDBBFHH@EBGGGEH@FFHE;EHIEGGBHG?)9?8BDGGBGGBCDGI=93=C6==C;CCD(?@>@#############################']"
      ]
     },
     "execution_count": 80,
     "metadata": {},
     "output_type": "execute_result"
    }
   ],
   "source": [
    "qual[:5]"
   ]
  },
  {
   "cell_type": "code",
   "execution_count": null,
   "id": "cf7287d8",
   "metadata": {},
   "outputs": [],
   "source": []
  }
 ],
 "metadata": {
  "kernelspec": {
   "display_name": "Python 3 (ipykernel)",
   "language": "python",
   "name": "python3"
  },
  "language_info": {
   "codemirror_mode": {
    "name": "ipython",
    "version": 3
   },
   "file_extension": ".py",
   "mimetype": "text/x-python",
   "name": "python",
   "nbconvert_exporter": "python",
   "pygments_lexer": "ipython3",
   "version": "3.9.19"
  }
 },
 "nbformat": 4,
 "nbformat_minor": 5
}
